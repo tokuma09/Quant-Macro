{
 "cells": [
  {
   "cell_type": "markdown",
   "metadata": {
    "slideshow": {
     "slide_type": "slide"
    }
   },
   "source": [
    "### Approximation AR(1) using Markov process\n",
    "##### 2018/05/08 Tokuma Suzuki\n",
    "UTGSE M1\n"
   ]
  },
  {
   "cell_type": "markdown",
   "metadata": {
    "slideshow": {
     "slide_type": "slide"
    }
   },
   "source": [
    "### Outline\n",
    "1.Introduction\n",
    "\n",
    "2.Tauchen method\n",
    "\n",
    "3.Rouwenhorst method\n",
    "\n",
    "4.stationary distribution"
   ]
  },
  {
   "cell_type": "markdown",
   "metadata": {
    "slideshow": {
     "slide_type": "slide"
    }
   },
   "source": [
    "### AR(1) process\n",
    "\n",
    "Consider the following process.\n",
    "\\begin{equation*}\n",
    "z_{t+1} = \\rho z_t + \\epsilon_{t+1}\n",
    "\\end{equation*}\n",
    "- $\\rho:$ persistence of AR(1) process\n",
    " Assume $\\mid \\rho \\mid <1$.\n",
    "\n",
    "- $\\epsilon\\sim N(0.\\sigma^2)$ and i.i.d.\n",
    "\n",
    "\\begin{equation*}\n",
    "\\sigma^2_z =\\frac{\\sigma^2}{(1.0-ρ^2)}\n",
    "\\end{equation*}\n"
   ]
  },
  {
   "cell_type": "markdown",
   "metadata": {
    "slideshow": {
     "slide_type": "subslide"
    }
   },
   "source": [
    "### Approximate AR(1) using Markov process\n",
    "Why do we approximate AR(1) process using Markov process?\n",
    "\n",
    "- Hard to compute the model with continuous shock\n",
    "- Markov process is closely related with dynamic programming.\n"
   ]
  },
  {
   "cell_type": "markdown",
   "metadata": {
    "slideshow": {
     "slide_type": "slide"
    }
   },
   "source": [
    "### Tauchen method\n",
    "\n",
    "1. Set grid number, nz of Markov process, $\\rho$ and $\\sigma$\n",
    "2. Set upper and lower bound of realization, zmax, zmin \n",
    " and create equally spaced grid, zgrid.\n",
    " \n",
    " 2.1. Let zmin$ = -s\\cdotσ_z$ and zmax $=-$zmin\n",
    "3. Store width of between grid points, w.\n",
    "4. Compute transition matrix, $\\Pi$\n"
   ]
  },
  {
   "cell_type": "markdown",
   "metadata": {
    "slideshow": {
     "slide_type": "subslide"
    }
   },
   "source": [
    "### How to compute transition matrix\n",
    "compute transition probability from state $i$ to $j$,\n",
    "$p_{i,j}$ as follows.\n",
    "\n",
    "$\\Phi\\left(\\frac{z_1-\\rho z_i + w/2}{\\sigma}\\right) \n",
    "\\,\\, \\text{if $j =1$} $\n",
    "\n",
    "\n",
    "$ \\Phi\\left(\\frac{z_j-\\rho z_i + w/2}{\\sigma}\\right) - \\Phi\\left(\\frac{z_j-\\rho z_i - w/2}{\\sigma}\\right)　\\, \\, \\text{if $j =2 ,\\ldots, nz-1$} $\n",
    "\n",
    "$1-\\Phi\\left(\\frac{z_{nz}-\\rho z_i -w/2}{\\sigma}\\right) \\,\\,\\text{if $j =nz$} $"
   ]
  },
  {
   "cell_type": "code",
   "execution_count": 1,
   "metadata": {
    "slideshow": {
     "slide_type": "subslide"
    }
   },
   "outputs": [],
   "source": [
    "using Distributions # for tauchen\n",
    "using StatsBase # for accuracy check\n",
    "using QuantEcon # check my code"
   ]
  },
  {
   "cell_type": "code",
   "execution_count": 2,
   "metadata": {
    "slideshow": {
     "slide_type": "subslide"
    }
   },
   "outputs": [
    {
     "data": {
      "text/plain": [
       "mytauchen (generic function with 2 methods)"
      ]
     },
     "execution_count": 2,
     "metadata": {},
     "output_type": "execute_result"
    }
   ],
   "source": [
    "function mytauchen(nz,ρ,σ,s::Int=3)  \n",
    "    if nz==1\n",
    "        throw(ArgumentError(\"the number of grid must be larger than 1\")) \n",
    "    end\n",
    "\n",
    "    d = Normal() # standard normal distribution\n",
    "    # step 2. decide max and min value of grid    \n",
    "    σ_z = sqrt(σ^2/(1.0-ρ^2))\n",
    "    zmin = -s*σ_z\n",
    "    zmax = s*σ_z\n",
    "    z = collect(linspace(zmin,zmax,nz))\n",
    "    w = z[2] -z[1] # step3. store width of between grid points\n",
    "    \n",
    "    # step 4. Get transition matrix\n",
    "    Π = zeros(nz,nz) # transition matrix\n",
    "    for row in 1:nz # Do end points first\n",
    "        @inbounds Π[row, 1] = cdf(d,(z[1] - ρ*z[row] + w/2) / σ)\n",
    "        @inbounds Π[row, nz] = ccdf(d,(z[nz] - ρ*z[row] - w/2) / σ) \n",
    "                               #1.0- cdf((z[nz] - ρ*z[row] - w/2) / σ)\n",
    "    end\n",
    "\n",
    "    for row in 1:nz # fill in the middle columns\n",
    "        for col in 2:nz-1 \n",
    "            @inbounds Π[row, col] = (cdf(d,(z[col] - ρ*z[row] + w/2) / σ) \n",
    "                                      -cdf(d,(z[col] - ρ*z[row] - w/2) / σ))\n",
    "        end\n",
    "    end\n",
    "    return z,Π\n",
    "end"
   ]
  },
  {
   "cell_type": "code",
   "execution_count": 3,
   "metadata": {
    "slideshow": {
     "slide_type": "subslide"
    }
   },
   "outputs": [
    {
     "name": "stdout",
     "output_type": "stream",
     "text": [
      "Mytauchen\n",
      "[-1.30931, -0.654654, 0.0, 0.654654, 1.30931]\n",
      "[0.125971 0.562312 0.295033 0.0166006 8.3522e-5; 0.0359068 0.399091 0.494622 0.0694428 0.000936689; 0.00704518 0.199543 0.586824 0.199543 0.00704518; 0.000936689 0.0694428 0.494622 0.399091 0.0359068; 8.3522e-5 0.0166006 0.295033 0.562312 0.125971]\n",
      "Tauchen QEver\n",
      "[-1.30931, -0.654654, 0.0, 0.654654, 1.30931]\n",
      "[0.125971 0.562312 0.295033 0.0166006 8.3522e-5; 0.0359068 0.399091 0.494622 0.0694428 0.000936689; 0.00704518 0.199543 0.586824 0.199543 0.00704518; 0.000936689 0.0694428 0.494622 0.399091 0.0359068; 8.3522e-5 0.0166006 0.295033 0.562312 0.125971]\n"
     ]
    }
   ],
   "source": [
    "#########################\n",
    "# step 1. Define parameters\n",
    "##########################\n",
    "\n",
    "nz = 5 # number of grid point\n",
    "ρ = 0.4 # persistence \n",
    "σ = 0.4 # standard deviation\n",
    "\n",
    "# check results\n",
    "\n",
    "# mytaucen\n",
    "z, Π = mytauchen(nz,ρ,σ)\n",
    "println(\"Mytauchen\")\n",
    "println(z)\n",
    "println(Π)\n",
    "\n",
    "# Quant Econ version\n",
    "println(\"Tauchen QEver\")\n",
    "x =tauchen(nz,ρ,σ)\n",
    "println(x.state_values)\n",
    "println(x.p)"
   ]
  },
  {
   "cell_type": "code",
   "execution_count": 4,
   "metadata": {
    "slideshow": {
     "slide_type": "subslide"
    }
   },
   "outputs": [
    {
     "name": "stdout",
     "output_type": "stream",
     "text": [
      "original ρ: 0.2, original σ: 0.4\n",
      "estimated ρ: [0.208084], estimated σ: [0.43281]\n"
     ]
    }
   ],
   "source": [
    "###################################################\n",
    "# Accuracy Test\n",
    "###################################################\n",
    "nz = 5 # number of grid point\n",
    "ρ = 0.2 # persistence   \n",
    "σ = 0.4 # standard deviation\n",
    "x =tauchen(nz,ρ,σ)\n",
    "X = simulate(x, 10000)\n",
    "T = X[1001:end]\n",
    "estρ = autocor(T,[1])\n",
    "estσ = sqrt.((1.0-(estρ.^2.0)).*var(T))\n",
    "println(\"original ρ: $ρ, original σ: $σ\")\n",
    "println(\"estimated ρ: $estρ, estimated σ: $estσ\")"
   ]
  },
  {
   "cell_type": "markdown",
   "metadata": {
    "slideshow": {
     "slide_type": "slide"
    }
   },
   "source": [
    "### Rouwenhorst \n",
    "\n",
    "1. Set grid size, $N$ of Markov process, $\\rho$ and $\\sigma$\n",
    "2. Set upper and lower bound of realization \n",
    " and create equally spaced grid.\n",
    "    \n",
    "    2.1. Let $\\psi = \\sigma_z \\sqrt{N-1}$. Set zmin $= -\\psi$ and zmax$=\\psi$\n",
    " \n",
    "3. Compute transiton matrix, $\\Pi$\n",
    "\n",
    "4. Devide all rows except the top and bottom by 2 to make the sum of elements 1\n"
   ]
  },
  {
   "cell_type": "markdown",
   "metadata": {
    "slideshow": {
     "slide_type": "subslide"
    }
   },
   "source": [
    "### How to compute trantion matrix\n",
    "\n",
    "N=2\n",
    "\\begin{equation*}\n",
    "    \\Pi_2 = \\left[\n",
    "    \\begin{array}{ccc}\n",
    "      p & 1-p  \\\\\n",
    "      1-p & p  \n",
    "    \\end{array}\n",
    "  \\right]\n",
    "\\end{equation*}\n",
    "For N$\\ge 3$\n",
    "\n",
    "\\begin{equation*}\n",
    "    \\Pi_N = p \\left[\n",
    "    \\begin{array}{ccc}\n",
    "      \\Pi_{N-1}  & \\bf{0_N}  \\\\\n",
    "      \\bf{0}^T_N & 0  \n",
    "    \\end{array}\n",
    "  \\right]\n",
    "  +(1-p) \\left[\n",
    "    \\begin{array}{ccc}\n",
    "      \\Pi_{N-1}  & \\bf{0_N}  \\\\\n",
    "      \\bf{0}^T_N & 0  \n",
    "    \\end{array}\n",
    "  \\right]\n",
    "\\end{equation*}\n",
    "\\begin{equation*}\n",
    "    +(1-p) \\left[\n",
    "    \\begin{array}{ccc}\n",
    "      \\bf{0^T_N}  & 0  \\\\\n",
    "      \\Pi_{N-1} & \\bf{0_N}  \n",
    "    \\end{array}\n",
    "  \\right]\n",
    "   +p \\left[\n",
    "    \\begin{array}{ccc}\n",
    "      0  & \\bf{0^T_N}  \\\\\n",
    "      \\bf{0}_N & \\Pi_{N-1}  \n",
    "    \\end{array}\n",
    "  \\right]\n",
    "\\end{equation*}"
   ]
  },
  {
   "cell_type": "code",
   "execution_count": 5,
   "metadata": {
    "slideshow": {
     "slide_type": "subslide"
    }
   },
   "outputs": [
    {
     "data": {
      "text/plain": [
       "myrouwenhorst (generic function with 1 method)"
      ]
     },
     "execution_count": 5,
     "metadata": {},
     "output_type": "execute_result"
    }
   ],
   "source": [
    "function myrouwenhorst(N::Int,ρ,σ)\n",
    "        \n",
    "    # step 2. create state grid\n",
    "    const σ_z = σ/sqrt(1.0-ρ^2)\n",
    "    const ψ = sqrt(N-1)* σ_z # end points\n",
    "    # create shock grid\n",
    "    zgrid = collect(linspace(-ψ,ψ,N)) \n",
    "\n",
    "    # step 3. compute trandition matrix\n",
    "    const p = (1.0+ρ)/2.0\n",
    "    Π   =  [p 1-p;1-p p]\n",
    "     \n",
    "    if N==1\n",
    "        throw(ArgumentError(\"the number of grid must be larger than 1\")) \n",
    "    elseif N==2 \n",
    "        return zgrid, Π\n",
    "    else \n",
    "        @inbounds for i in 3:N\n",
    "            zero_v = zeros(i-1,1)\n",
    "            zero_v_long = zeros(1,i)\n",
    "            Π = p.*[Π zero_v; zero_v_long] +\n",
    "                 (1-p).*[zero_v Π; zero_v_long] +\n",
    "                 (1-p).*[zero_v_long; Π zero_v] +\n",
    "                 p.*[zero_v_long; zero_v Π] \n",
    "            @views Π[2:end-1,:] ./=  2.0    # step 4. devide matrix by 2 except the top and bottom\n",
    "        end\n",
    "    end\n",
    "    return zgrid, Π\n",
    "end"
   ]
  },
  {
   "cell_type": "code",
   "execution_count": 6,
   "metadata": {
    "slideshow": {
     "slide_type": "subslide"
    }
   },
   "outputs": [
    {
     "name": "stdout",
     "output_type": "stream",
     "text": [
      "Result of my code\n",
      "[-0.816497, -0.408248, 0.0, 0.408248, 0.816497]\n",
      "[0.1296 0.3456 0.3456 0.1536 0.0256; 0.0864 0.3024 0.3744 0.1984 0.0384; 0.0576 0.2496 0.3856 0.2496 0.0576; 0.0384 0.1984 0.3744 0.3024 0.0864; 0.0256 0.1536 0.3456 0.3456 0.1296]\n",
      "Result of QE\n",
      "-0.8164965809277261:0.4082482904638631:0.8164965809277261\n",
      "[0.1296 0.3456 0.3456 0.1536 0.0256; 0.0864 0.3024 0.3744 0.1984 0.0384; 0.0576 0.2496 0.3856 0.2496 0.0576; 0.0384 0.1984 0.3744 0.3024 0.0864; 0.0256 0.1536 0.3456 0.3456 0.1296]\n"
     ]
    }
   ],
   "source": [
    "# step 1. Define parameters\n",
    "nz = 5# number of grid point\n",
    "ρ = 0.2 # persistence \n",
    "σ = 0.4 # standard deviation\n",
    "\n",
    "# check results\n",
    "\n",
    "# my code\n",
    "zgrid,Π = myrouwenhorst(nz,ρ,σ)\n",
    "println(\"Result of my code\")\n",
    "println(zgrid)\n",
    "println(Π)\n",
    "\n",
    "# QE ver\n",
    "println(\"Result of QE\")\n",
    "mc =rouwenhorst(nz,ρ,σ) \n",
    "println(mc.state_values)\n",
    "println(mc.p)"
   ]
  },
  {
   "cell_type": "code",
   "execution_count": 7,
   "metadata": {
    "slideshow": {
     "slide_type": "subslide"
    }
   },
   "outputs": [
    {
     "name": "stdout",
     "output_type": "stream",
     "text": [
      "original ρ: 0.2, original σ: 0.4\n",
      "estimated ρ: [0.215598], estimated σ: [0.400428]\n"
     ]
    }
   ],
   "source": [
    "###################################################\n",
    "# Accuracy Test\n",
    "###################################################\n",
    "nz = 5 # number of grid point\n",
    "ρ = 0.2 # persistence \n",
    "σ = 0.4 # standard deviation\n",
    "x =rouwenhorst(nz,ρ,σ)\n",
    "X = simulate(x, 10000)\n",
    "T = X[1001:end]\n",
    "estρ = autocor(T,[1])\n",
    "estσ = sqrt.((1.0-(estρ.^2.0)).*var(T))\n",
    "println(\"original ρ: $ρ, original σ: $σ\")\n",
    "println(\"estimated ρ: $estρ, estimated σ: $estσ\")"
   ]
  },
  {
   "cell_type": "markdown",
   "metadata": {
    "slideshow": {
     "slide_type": "slide"
    }
   },
   "source": [
    "### Stationary distribution\n",
    "The unconditional probability distribution $x_t$ evolves\n",
    "$$x_{t+1}=\\Pi' \\cdot x_t$$\n",
    "\n",
    "The probability distribution is stationary if it satisfies  $x_{t+1}=x_t \\,\\,\\, \\text{for all $t$} $\n",
    "\n",
    "Is that distribution unique? $\\rightarrow$ yes.\n",
    "#### Theorem\n",
    "\n",
    "Let P be a stochastic matrix with $P_{ij} >0,\\, \\forall(i,j)$. Then P has a unique stationary distribution and, the process is asymptotically stationary.\n"
   ]
  },
  {
   "cell_type": "markdown",
   "metadata": {
    "slideshow": {
     "slide_type": "subslide"
    }
   },
   "source": [
    "### How to compute the invariant distribution\n",
    "By previous theorem, any initial distributions attain to the same stationary distribution.\n",
    "\n",
    "1. guess initial distribution\n",
    "2. update distribution using transition matrix\n",
    "3. if it converges, stop updating, else go to step 2."
   ]
  },
  {
   "cell_type": "code",
   "execution_count": 8,
   "metadata": {
    "slideshow": {
     "slide_type": "subslide"
    }
   },
   "outputs": [
    {
     "data": {
      "text/plain": [
       "inv_dist (generic function with 1 method)"
      ]
     },
     "execution_count": 8,
     "metadata": {},
     "output_type": "execute_result"
    }
   ],
   "source": [
    "function inv_dist(zgrid,Π)\n",
    "    const nz = size(zgrid,1)\n",
    "    stdist =    ones(nz)./nz\n",
    "    stdist1 = zeros(nz)\n",
    "    err = 1.0\n",
    "    const tol = 1e-8\n",
    "    Trans = transpose(Π)\n",
    "\n",
    "    while err > tol\n",
    "        stdist1 = Trans*stdist\n",
    "        err=maximum(abs.(stdist1-stdist))\n",
    "        stdist = copy(stdist1)  \n",
    "    end\n",
    "\n",
    "    return stdist\n",
    "end"
   ]
  },
  {
   "cell_type": "code",
   "execution_count": 9,
   "metadata": {
    "slideshow": {
     "slide_type": "subslide"
    }
   },
   "outputs": [
    {
     "name": "stdout",
     "output_type": "stream",
     "text": [
      "[0.0625, 0.25, 0.375, 0.25, 0.0625]\n"
     ]
    },
    {
     "data": {
      "text/plain": [
       "1-element Array{Array{Float64,1},1}:\n",
       " [0.0625, 0.25, 0.375, 0.25, 0.0625]"
      ]
     },
     "execution_count": 9,
     "metadata": {},
     "output_type": "execute_result"
    }
   ],
   "source": [
    "# check invariant distribution\n",
    "\n",
    "# my code\n",
    "nz = 5 # number of grid point\n",
    "ρ = 0.2 # persistence \n",
    "σ = 0.4 # standard deviation\n",
    "x,y = myrouwenhorst(nz,ρ,σ)\n",
    "stat_dist=inv_dist(x,y)\n",
    "println(\"$stat_dist\")\n",
    "\n",
    "# QEver\n",
    "mc = rouwenhorst(nz,ρ,σ)\n",
    "st = stationary_distributions(mc)"
   ]
  }
 ],
 "metadata": {
  "author": "m",
  "celltoolbar": "Slideshow",
  "kernelspec": {
   "display_name": "Julia 0.6.2",
   "language": "julia",
   "name": "julia-0.6"
  },
  "language_info": {
   "file_extension": ".jl",
   "mimetype": "application/julia",
   "name": "julia",
   "version": "0.6.2"
  },
  "latex_envs": {
   "LaTeX_envs_menu_present": true,
   "autoclose": true,
   "autocomplete": true,
   "bibliofile": "biblio.bib",
   "cite_by": "apalike",
   "current_citInitial": 1,
   "eqLabelWithNumbers": true,
   "eqNumInitial": 1,
   "hotkeys": {
    "equation": "Ctrl-E",
    "itemize": "Ctrl-I"
   },
   "labels_anchors": false,
   "latex_user_defs": false,
   "report_style_numbering": false,
   "user_envs_cfg": false
  },
  "livereveal": {
   "auto_select": "code",
   "auto_select_fragment": true
  },
  "rise": {
   "autolaunch": true
  },
  "varInspector": {
   "cols": {
    "lenName": 16,
    "lenType": 16,
    "lenVar": 40
   },
   "kernels_config": {
    "python": {
     "delete_cmd_postfix": "",
     "delete_cmd_prefix": "del ",
     "library": "var_list.py",
     "varRefreshCmd": "print(var_dic_list())"
    },
    "r": {
     "delete_cmd_postfix": ") ",
     "delete_cmd_prefix": "rm(",
     "library": "var_list.r",
     "varRefreshCmd": "cat(var_dic_list()) "
    }
   },
   "types_to_exclude": [
    "module",
    "function",
    "builtin_function_or_method",
    "instance",
    "_Feature"
   ],
   "window_display": false
  }
 },
 "nbformat": 4,
 "nbformat_minor": 2
}
